{
 "cells": [
  {
   "cell_type": "code",
   "execution_count": 4,
   "metadata": {},
   "outputs": [],
   "source": [
    "import numpy as np\n",
    "def gen_vander_matrix(ipvector,n,increasing=False):\n",
    "    if not increasing:\n",
    "        op_matrix= np.array([x**(n-1-i) for x in ipvector for i in range(n)]).reshape(ipvector.size,n)\n",
    "    elif increasing:\n",
    "        op_matrix= np.array([x**i for x in ipvector for i in range(n)]).reshape(ipvector.size,n)\n",
    "    return op_matrix"
   ]
  },
  {
   "cell_type": "code",
   "execution_count": 5,
   "metadata": {},
   "outputs": [
    {
     "name": "stdout",
     "output_type": "stream",
     "text": [
      "The input array is: [1 2 3 4 5] \n",
      "\n",
      "Number of columns in output matrix should be: 3 \n",
      "\n",
      "Vander matrix of the input array in decreasing order of powers:\n",
      "\n",
      " [[ 1  1  1]\n",
      " [ 4  2  1]\n",
      " [ 9  3  1]\n",
      " [16  4  1]\n",
      " [25  5  1]] \n",
      "\n",
      "Vander matrix of the input array in increasing order of powers:\n",
      "\n",
      " [[ 1  1  1]\n",
      " [ 1  2  4]\n",
      " [ 1  3  9]\n",
      " [ 1  4 16]\n",
      " [ 1  5 25]] \n",
      "\n"
     ]
    }
   ],
   "source": [
    "inputvector=np.array([1,2,3,4,5])\n",
    "no_col_opmat=3\n",
    "op_matx_dec_order=gen_vander_matrix(inputvector,no_col_opmat,False)\n",
    "op_matx_inc_order=gen_vander_matrix(inputvector,no_col_opmat,True)\n",
    "\n",
    "print('The input array is:',inputvector,'\\n')\n",
    "print('Number of columns in output matrix should be:',no_col_opmat,'\\n')\n",
    "print('Vander matrix of the input array in decreasing order of powers:\\n\\n',op_matx_dec_order,'\\n')\n",
    "print('Vander matrix of the input array in increasing order of powers:\\n\\n',op_matx_inc_order,'\\n')"
   ]
  },
  {
   "cell_type": "code",
   "execution_count": null,
   "metadata": {},
   "outputs": [],
   "source": []
  }
 ],
 "metadata": {
  "kernelspec": {
   "display_name": "Python 3",
   "language": "python",
   "name": "python3"
  },
  "language_info": {
   "codemirror_mode": {
    "name": "ipython",
    "version": 3
   },
   "file_extension": ".py",
   "mimetype": "text/x-python",
   "name": "python",
   "nbconvert_exporter": "python",
   "pygments_lexer": "ipython3",
   "version": "3.7.6"
  }
 },
 "nbformat": 4,
 "nbformat_minor": 4
}
